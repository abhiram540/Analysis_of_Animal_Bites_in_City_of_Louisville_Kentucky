{
 "cells": [
  {
   "cell_type": "markdown",
   "id": "a3003edf",
   "metadata": {},
   "source": [
    "# Analysis of Animal Bites in Louisville Metropolitan Area Kentucky for Data Storytelling\n",
    "\n",
    "In the United States, animal bites are often reported to law enforcement (such as animal control). The main concern with an animal bite is that the animal may be rabid. This dataset includes information on thousands of animal bites which occurred near Louisville, Kentucky from 2012 to 2021 and includes information on whether the animal was quarantined after the bite occurred and whether that animal was rabid.\n",
    "\n",
    "Contents:\n",
    "\n",
    "1. Features of Animal Bite Data <br>\n",
    "2. Animal Species <br>\n",
    "3. Animal Name VS Number of Bite <br>\n",
    "4. The Most Aggressive 10 Species <br>\n",
    "5. When Animals Bite <br>\n",
    "6. Male or Female is More Dangerous <br>\n",
    "7. Probability of Being Rabid <br>\n",
    "8. Common Feature of 4 Rabid Animal <br>"
   ]
  },
  {
   "cell_type": "code",
   "execution_count": 9,
   "id": "a0b8579a",
   "metadata": {},
   "outputs": [],
   "source": [
    "#Import Libraries\n",
    "\n",
    "import numpy as np #linear algebra\n",
    "import pandas as pd # data processing, CSV file I/O (e.g. pd.read_csv)\n",
    "import seaborn as sns # visualization library\n",
    "import matplotlib.pyplot as plt\n",
    "import matplotlib.patches as patches"
   ]
  },
  {
   "cell_type": "code",
   "execution_count": 10,
   "id": "7e376c54",
   "metadata": {},
   "outputs": [],
   "source": [
    "data = pd.read_csv(r'C:\\Users\\abhir\\OneDrive\\Documents\\GitHub\\Analysis_of_Animal_Bites_in_City_of_Louisville_Kentucky\\Animal_Bites.csv')"
   ]
  },
  {
   "cell_type": "code",
   "execution_count": 11,
   "id": "36d4dec9",
   "metadata": {},
   "outputs": [
    {
     "data": {
      "text/plain": [
       "Index(['id', 'bite_date', 'SpeciesIDDesc', 'BreedIDDesc', 'breed',\n",
       "       'GenderIDDesc', 'color', 'vaccination_yrs', 'vaccination_date',\n",
       "       'victim_zip', 'AdvIssuedYNDesc', 'WhereBittenIDDesc', 'quarantine_date',\n",
       "       'DispositionIDDesc', 'head_sent_date', 'release_date', 'ResultsIDDesc',\n",
       "       'FollowupYNDesc'],\n",
       "      dtype='object')"
      ]
     },
     "execution_count": 11,
     "metadata": {},
     "output_type": "execute_result"
    }
   ],
   "source": [
    "# There are 15 features\n",
    "data.columns"
   ]
  },
  {
   "cell_type": "code",
   "execution_count": 12,
   "id": "ce070586",
   "metadata": {},
   "outputs": [],
   "source": [
    "#Drop duplicate rows\n",
    "data = data.drop_duplicates(subset='id')"
   ]
  },
  {
   "cell_type": "code",
   "execution_count": 14,
   "id": "e9c9e08b",
   "metadata": {},
   "outputs": [],
   "source": [
    "#data.sort_values(\"First Name\", inplace = True)\n",
    "data.dropna(subset = ['bite_date'], inplace=True)\n",
    "#data['bite_date'].isna().sum()"
   ]
  },
  {
   "cell_type": "code",
   "execution_count": 15,
   "id": "eaff0a8b",
   "metadata": {},
   "outputs": [
    {
     "data": {
      "text/html": [
       "<div>\n",
       "<style scoped>\n",
       "    .dataframe tbody tr th:only-of-type {\n",
       "        vertical-align: middle;\n",
       "    }\n",
       "\n",
       "    .dataframe tbody tr th {\n",
       "        vertical-align: top;\n",
       "    }\n",
       "\n",
       "    .dataframe thead th {\n",
       "        text-align: right;\n",
       "    }\n",
       "</style>\n",
       "<table border=\"1\" class=\"dataframe\">\n",
       "  <thead>\n",
       "    <tr style=\"text-align: right;\">\n",
       "      <th></th>\n",
       "      <th>id</th>\n",
       "      <th>bite_date</th>\n",
       "      <th>SpeciesIDDesc</th>\n",
       "      <th>BreedIDDesc</th>\n",
       "      <th>breed</th>\n",
       "      <th>GenderIDDesc</th>\n",
       "      <th>color</th>\n",
       "      <th>vaccination_yrs</th>\n",
       "      <th>vaccination_date</th>\n",
       "      <th>victim_zip</th>\n",
       "      <th>AdvIssuedYNDesc</th>\n",
       "      <th>WhereBittenIDDesc</th>\n",
       "      <th>quarantine_date</th>\n",
       "      <th>DispositionIDDesc</th>\n",
       "      <th>head_sent_date</th>\n",
       "      <th>release_date</th>\n",
       "      <th>ResultsIDDesc</th>\n",
       "      <th>FollowupYNDesc</th>\n",
       "    </tr>\n",
       "  </thead>\n",
       "  <tbody>\n",
       "    <tr>\n",
       "      <th>6282</th>\n",
       "      <td>674039</td>\n",
       "      <td>1949-05-05 00:00:00</td>\n",
       "      <td>DOG</td>\n",
       "      <td>LABRADOR RETRIV</td>\n",
       "      <td>NaN</td>\n",
       "      <td>MALE</td>\n",
       "      <td>BRN WHT</td>\n",
       "      <td>NaN</td>\n",
       "      <td>NaN</td>\n",
       "      <td>40216.0</td>\n",
       "      <td>NaN</td>\n",
       "      <td>BODY</td>\n",
       "      <td>NaN</td>\n",
       "      <td>NaN</td>\n",
       "      <td>NaN</td>\n",
       "      <td>NaN</td>\n",
       "      <td>NaN</td>\n",
       "      <td>NO</td>\n",
       "    </tr>\n",
       "    <tr>\n",
       "      <th>9990</th>\n",
       "      <td>708139</td>\n",
       "      <td>1950-08-19 00:00:00</td>\n",
       "      <td>DOG</td>\n",
       "      <td>GOLD RETRIEVER</td>\n",
       "      <td>NaN</td>\n",
       "      <td>MALE</td>\n",
       "      <td>GOLD</td>\n",
       "      <td>NaN</td>\n",
       "      <td>2020-07-01 00:00:00</td>\n",
       "      <td>NaN</td>\n",
       "      <td>NaN</td>\n",
       "      <td>HEAD</td>\n",
       "      <td>NaN</td>\n",
       "      <td>NaN</td>\n",
       "      <td>NaN</td>\n",
       "      <td>2020-11-10 00:00:00</td>\n",
       "      <td>NaN</td>\n",
       "      <td>NO</td>\n",
       "    </tr>\n",
       "    <tr>\n",
       "      <th>1382</th>\n",
       "      <td>629208</td>\n",
       "      <td>1952-08-05 00:00:00</td>\n",
       "      <td>DOG</td>\n",
       "      <td>RAT TERRIER</td>\n",
       "      <td>NaN</td>\n",
       "      <td>FEMALE</td>\n",
       "      <td>WHT BRN</td>\n",
       "      <td>3.0</td>\n",
       "      <td>2015-07-10 00:00:00</td>\n",
       "      <td>40299.0</td>\n",
       "      <td>NaN</td>\n",
       "      <td>UNKNOWN</td>\n",
       "      <td>NaN</td>\n",
       "      <td>NaN</td>\n",
       "      <td>NaN</td>\n",
       "      <td>2017-06-08 00:00:00</td>\n",
       "      <td>NaN</td>\n",
       "      <td>NO</td>\n",
       "    </tr>\n",
       "    <tr>\n",
       "      <th>3770</th>\n",
       "      <td>651627</td>\n",
       "      <td>1981-05-02 00:00:00</td>\n",
       "      <td>DOG</td>\n",
       "      <td>NaN</td>\n",
       "      <td>BULL TERRIER</td>\n",
       "      <td>NaN</td>\n",
       "      <td>BLACK</td>\n",
       "      <td>NaN</td>\n",
       "      <td>NaN</td>\n",
       "      <td>40272.0</td>\n",
       "      <td>NaN</td>\n",
       "      <td>HEAD</td>\n",
       "      <td>NaN</td>\n",
       "      <td>NaN</td>\n",
       "      <td>NaN</td>\n",
       "      <td>NaN</td>\n",
       "      <td>NaN</td>\n",
       "      <td>NO</td>\n",
       "    </tr>\n",
       "    <tr>\n",
       "      <th>9988</th>\n",
       "      <td>708138</td>\n",
       "      <td>1984-07-21 00:00:00</td>\n",
       "      <td>DOG</td>\n",
       "      <td>MASTIF</td>\n",
       "      <td>NaN</td>\n",
       "      <td>MALE</td>\n",
       "      <td>BLACK</td>\n",
       "      <td>1.0</td>\n",
       "      <td>2021-02-01 00:00:00</td>\n",
       "      <td>40210.0</td>\n",
       "      <td>NaN</td>\n",
       "      <td>HEAD</td>\n",
       "      <td>NaN</td>\n",
       "      <td>NaN</td>\n",
       "      <td>NaN</td>\n",
       "      <td>2020-11-09 00:00:00</td>\n",
       "      <td>NaN</td>\n",
       "      <td>NO</td>\n",
       "    </tr>\n",
       "  </tbody>\n",
       "</table>\n",
       "</div>"
      ],
      "text/plain": [
       "          id            bite_date SpeciesIDDesc      BreedIDDesc  \\\n",
       "6282  674039  1949-05-05 00:00:00           DOG  LABRADOR RETRIV   \n",
       "9990  708139  1950-08-19 00:00:00           DOG   GOLD RETRIEVER   \n",
       "1382  629208  1952-08-05 00:00:00           DOG      RAT TERRIER   \n",
       "3770  651627  1981-05-02 00:00:00           DOG              NaN   \n",
       "9988  708138  1984-07-21 00:00:00           DOG           MASTIF   \n",
       "\n",
       "             breed GenderIDDesc    color  vaccination_yrs  \\\n",
       "6282           NaN         MALE  BRN WHT              NaN   \n",
       "9990           NaN         MALE     GOLD              NaN   \n",
       "1382           NaN       FEMALE  WHT BRN              3.0   \n",
       "3770  BULL TERRIER          NaN    BLACK              NaN   \n",
       "9988           NaN         MALE    BLACK              1.0   \n",
       "\n",
       "         vaccination_date  victim_zip AdvIssuedYNDesc WhereBittenIDDesc  \\\n",
       "6282                  NaN     40216.0             NaN              BODY   \n",
       "9990  2020-07-01 00:00:00         NaN             NaN              HEAD   \n",
       "1382  2015-07-10 00:00:00     40299.0             NaN           UNKNOWN   \n",
       "3770                  NaN     40272.0             NaN              HEAD   \n",
       "9988  2021-02-01 00:00:00     40210.0             NaN              HEAD   \n",
       "\n",
       "     quarantine_date DispositionIDDesc head_sent_date         release_date  \\\n",
       "6282             NaN               NaN            NaN                  NaN   \n",
       "9990             NaN               NaN            NaN  2020-11-10 00:00:00   \n",
       "1382             NaN               NaN            NaN  2017-06-08 00:00:00   \n",
       "3770             NaN               NaN            NaN                  NaN   \n",
       "9988             NaN               NaN            NaN  2020-11-09 00:00:00   \n",
       "\n",
       "     ResultsIDDesc FollowupYNDesc  \n",
       "6282           NaN             NO  \n",
       "9990           NaN             NO  \n",
       "1382           NaN             NO  \n",
       "3770           NaN             NO  \n",
       "9988           NaN             NO  "
      ]
     },
     "execution_count": 15,
     "metadata": {},
     "output_type": "execute_result"
    }
   ],
   "source": [
    "#Order rows based on bite dates from oldest to latest \n",
    "data.sort_values(\"bite_date\", inplace = True)\n",
    "data.head()"
   ]
  },
  {
   "cell_type": "code",
   "execution_count": 18,
   "id": "7f6fd268",
   "metadata": {},
   "outputs": [],
   "source": [
    "data.drop('FollowupYNDesc', axis=1, inplace=True)"
   ]
  },
  {
   "cell_type": "code",
   "execution_count": 22,
   "id": "7551e30d",
   "metadata": {},
   "outputs": [
    {
     "data": {
      "text/plain": [
       "12"
      ]
     },
     "execution_count": 22,
     "metadata": {},
     "output_type": "execute_result"
    }
   ],
   "source": [
    "#df['date'] = pd.to_datetime(df['date'], format='%Y-%m-%d')\n",
    "len(data.loc[(data['bite_date'] < '2012-01-01')])"
   ]
  },
  {
   "cell_type": "code",
   "execution_count": 24,
   "id": "afa15618",
   "metadata": {},
   "outputs": [],
   "source": [
    "data.drop(data[data['bite_date'] < '2012-01-01'].index, inplace = True)"
   ]
  },
  {
   "cell_type": "code",
   "execution_count": 25,
   "id": "3ef5f4ae",
   "metadata": {},
   "outputs": [
    {
     "data": {
      "text/html": [
       "<div>\n",
       "<style scoped>\n",
       "    .dataframe tbody tr th:only-of-type {\n",
       "        vertical-align: middle;\n",
       "    }\n",
       "\n",
       "    .dataframe tbody tr th {\n",
       "        vertical-align: top;\n",
       "    }\n",
       "\n",
       "    .dataframe thead th {\n",
       "        text-align: right;\n",
       "    }\n",
       "</style>\n",
       "<table border=\"1\" class=\"dataframe\">\n",
       "  <thead>\n",
       "    <tr style=\"text-align: right;\">\n",
       "      <th></th>\n",
       "      <th>id</th>\n",
       "      <th>bite_date</th>\n",
       "      <th>SpeciesIDDesc</th>\n",
       "      <th>BreedIDDesc</th>\n",
       "      <th>breed</th>\n",
       "      <th>GenderIDDesc</th>\n",
       "      <th>color</th>\n",
       "      <th>vaccination_yrs</th>\n",
       "      <th>vaccination_date</th>\n",
       "      <th>victim_zip</th>\n",
       "      <th>AdvIssuedYNDesc</th>\n",
       "      <th>WhereBittenIDDesc</th>\n",
       "      <th>quarantine_date</th>\n",
       "      <th>DispositionIDDesc</th>\n",
       "      <th>head_sent_date</th>\n",
       "      <th>release_date</th>\n",
       "      <th>ResultsIDDesc</th>\n",
       "    </tr>\n",
       "  </thead>\n",
       "  <tbody>\n",
       "    <tr>\n",
       "      <th>0</th>\n",
       "      <td>518378</td>\n",
       "      <td>2012-06-30 00:00:00</td>\n",
       "      <td>SKUNK</td>\n",
       "      <td>NaN</td>\n",
       "      <td>SKUNK</td>\n",
       "      <td>MALE</td>\n",
       "      <td>NaN</td>\n",
       "      <td>NaN</td>\n",
       "      <td>NaN</td>\n",
       "      <td>40245.0</td>\n",
       "      <td>NaN</td>\n",
       "      <td>BODY</td>\n",
       "      <td>NaN</td>\n",
       "      <td>NaN</td>\n",
       "      <td>NaN</td>\n",
       "      <td>NaN</td>\n",
       "      <td>NaN</td>\n",
       "    </tr>\n",
       "    <tr>\n",
       "      <th>2</th>\n",
       "      <td>534290</td>\n",
       "      <td>2013-04-16 00:00:00</td>\n",
       "      <td>DOG</td>\n",
       "      <td>PIT BULL</td>\n",
       "      <td>NaN</td>\n",
       "      <td>NaN</td>\n",
       "      <td>NaN</td>\n",
       "      <td>NaN</td>\n",
       "      <td>NaN</td>\n",
       "      <td>NaN</td>\n",
       "      <td>NaN</td>\n",
       "      <td>BODY</td>\n",
       "      <td>NaN</td>\n",
       "      <td>NaN</td>\n",
       "      <td>NaN</td>\n",
       "      <td>NaN</td>\n",
       "      <td>NaN</td>\n",
       "    </tr>\n",
       "    <tr>\n",
       "      <th>4</th>\n",
       "      <td>535577</td>\n",
       "      <td>2013-05-03 00:00:00</td>\n",
       "      <td>DOG</td>\n",
       "      <td>PIT BULL</td>\n",
       "      <td>NaN</td>\n",
       "      <td>MALE</td>\n",
       "      <td>NaN</td>\n",
       "      <td>NaN</td>\n",
       "      <td>2011-11-03 00:00:00</td>\n",
       "      <td>40215.0</td>\n",
       "      <td>NaN</td>\n",
       "      <td>BODY</td>\n",
       "      <td>NaN</td>\n",
       "      <td>NaN</td>\n",
       "      <td>NaN</td>\n",
       "      <td>NaN</td>\n",
       "      <td>NaN</td>\n",
       "    </tr>\n",
       "    <tr>\n",
       "      <th>6380</th>\n",
       "      <td>674820</td>\n",
       "      <td>2013-05-06 00:00:00</td>\n",
       "      <td>DOG</td>\n",
       "      <td>AAUST. TERR.</td>\n",
       "      <td>NaN</td>\n",
       "      <td>MALE</td>\n",
       "      <td>BLK WHT</td>\n",
       "      <td>1.0</td>\n",
       "      <td>2019-05-17 00:00:00</td>\n",
       "      <td>40222.0</td>\n",
       "      <td>NaN</td>\n",
       "      <td>BODY</td>\n",
       "      <td>NaN</td>\n",
       "      <td>NaN</td>\n",
       "      <td>NaN</td>\n",
       "      <td>2019-05-28 00:00:00</td>\n",
       "      <td>NaN</td>\n",
       "    </tr>\n",
       "    <tr>\n",
       "      <th>6</th>\n",
       "      <td>537343</td>\n",
       "      <td>2013-06-02 00:00:00</td>\n",
       "      <td>DOG</td>\n",
       "      <td>GERM SHEPHERD</td>\n",
       "      <td>NaN</td>\n",
       "      <td>NaN</td>\n",
       "      <td>NaN</td>\n",
       "      <td>NaN</td>\n",
       "      <td>NaN</td>\n",
       "      <td>40243.0</td>\n",
       "      <td>NaN</td>\n",
       "      <td>BODY</td>\n",
       "      <td>NaN</td>\n",
       "      <td>NaN</td>\n",
       "      <td>NaN</td>\n",
       "      <td>NaN</td>\n",
       "      <td>NaN</td>\n",
       "    </tr>\n",
       "  </tbody>\n",
       "</table>\n",
       "</div>"
      ],
      "text/plain": [
       "          id            bite_date SpeciesIDDesc    BreedIDDesc  breed  \\\n",
       "0     518378  2012-06-30 00:00:00         SKUNK            NaN  SKUNK   \n",
       "2     534290  2013-04-16 00:00:00           DOG       PIT BULL    NaN   \n",
       "4     535577  2013-05-03 00:00:00           DOG       PIT BULL    NaN   \n",
       "6380  674820  2013-05-06 00:00:00           DOG   AAUST. TERR.    NaN   \n",
       "6     537343  2013-06-02 00:00:00           DOG  GERM SHEPHERD    NaN   \n",
       "\n",
       "     GenderIDDesc    color  vaccination_yrs     vaccination_date  victim_zip  \\\n",
       "0            MALE      NaN              NaN                  NaN     40245.0   \n",
       "2             NaN      NaN              NaN                  NaN         NaN   \n",
       "4            MALE      NaN              NaN  2011-11-03 00:00:00     40215.0   \n",
       "6380         MALE  BLK WHT              1.0  2019-05-17 00:00:00     40222.0   \n",
       "6             NaN      NaN              NaN                  NaN     40243.0   \n",
       "\n",
       "     AdvIssuedYNDesc WhereBittenIDDesc quarantine_date DispositionIDDesc  \\\n",
       "0                NaN              BODY             NaN               NaN   \n",
       "2                NaN              BODY             NaN               NaN   \n",
       "4                NaN              BODY             NaN               NaN   \n",
       "6380             NaN              BODY             NaN               NaN   \n",
       "6                NaN              BODY             NaN               NaN   \n",
       "\n",
       "     head_sent_date         release_date ResultsIDDesc  \n",
       "0               NaN                  NaN           NaN  \n",
       "2               NaN                  NaN           NaN  \n",
       "4               NaN                  NaN           NaN  \n",
       "6380            NaN  2019-05-28 00:00:00           NaN  \n",
       "6               NaN                  NaN           NaN  "
      ]
     },
     "execution_count": 25,
     "metadata": {},
     "output_type": "execute_result"
    }
   ],
   "source": [
    "data.head()"
   ]
  },
  {
   "cell_type": "markdown",
   "id": "a0aed77a",
   "metadata": {},
   "source": [
    "#### Features of Animal Bite Data\n",
    "\n",
    "bite_date: The date the bite occurred <br>\n",
    "SpeciesIDDesc: The species of animal that did the biting <br>\n",
    "BreedIDDesc: Breed (if known) <br>\n",
    "GenderIDDesc: Gender (of the animal) <br>\n",
    "color: color of the animal <br>\n",
    "vaccination_yrs: how many years had passed since the last vaccination <br>\n",
    "vaccination_date: the date of the last vaccination <br>\n",
    "victim_zip: the zipcode of the victim <br>\n",
    "AdvIssuedYNDesc: whether advice was issued <br>\n",
    "WhereBittenIDDesc: Where on the body the victim was bitten <br>\n",
    "quarantine_date: whether the animal was quarantined <br>\n",
    "DispositionIDDesc: whether the animal was released from quarantine <br>\n",
    "head_sent_date: the date the animal’s head was sent to the lab <br>\n",
    "release_date: the date the animal was released <br>\n",
    "ResultsIDDesc: results from lab tests (for rabies) <br>"
   ]
  },
  {
   "cell_type": "code",
   "execution_count": 26,
   "id": "d5162d0b",
   "metadata": {},
   "outputs": [
    {
     "name": "stdout",
     "output_type": "stream",
     "text": [
      "['SKUNK' 'DOG' 'CAT' 'BAT' 'RACCOON' 'FERRET' 'HORSE' 'OTHER' 'RAT']\n"
     ]
    }
   ],
   "source": [
    "# There are 9 animals name \n",
    "species = data.SpeciesIDDesc\n",
    "species = species.dropna() #drop nan values in species feature\n",
    "speciesOfAnimal = species.unique()\n",
    "print(speciesOfAnimal)"
   ]
  },
  {
   "cell_type": "markdown",
   "id": "20a77930",
   "metadata": {},
   "source": [
    "#### Animal Name VS Number of Bite\n",
    "\n",
    "Number of dog bite = 7029 <br>\n",
    "Number of cat bite = 1568 <br>\n",
    "Number of bat bite = 237 <br>\n",
    "Number of raccoon bite = 27 <br>\n",
    "Number of other bite = 11 <br>\n",
    "Number of rabbit bite = 3 <br>\n",
    "Number of horse bite = 5 <br>\n",
    "Number of skunk bite = 1 <br>\n",
    "Number of ferret bite = 4 <br>"
   ]
  },
  {
   "cell_type": "code",
   "execution_count": 27,
   "id": "04aa7515",
   "metadata": {},
   "outputs": [
    {
     "name": "stdout",
     "output_type": "stream",
     "text": [
      "[2, 4616, 822, 67, 21, 8, 2, 10, 2]\n"
     ]
    },
    {
     "data": {
      "image/png": "[encoded data removed]",
      "text/plain": [
       "<Figure size 432x288 with 1 Axes>"
      ]
     },
     "metadata": {
      "needs_background": "light"
     },
     "output_type": "display_data"
    }
   ],
   "source": [
    "animal_list = []\n",
    "for  i in speciesOfAnimal:\n",
    "    animal_list.append(len(species[species==i]))\n",
    "ax = sns.barplot(x=speciesOfAnimal, y =animal_list)\n",
    "plt.title('Number of Species Bite')\n",
    "plt.xticks(rotation=90)\n",
    "print(animal_list)"
   ]
  },
  {
   "cell_type": "markdown",
   "id": "9ec7cea9",
   "metadata": {},
   "source": [
    "#### When Animals Bite\n",
    "\n",
    "Monthly distribution of dog, cat and bat bites are visualized."
   ]
  },
  {
   "cell_type": "code",
   "execution_count": 28,
   "id": "5001429b",
   "metadata": {},
   "outputs": [],
   "source": [
    "def animal_month(animal,data):\n",
    "    month_list= ['01','02','03','04','05','06','07','08','09','10','11','12']\n",
    "    numberOfAnimal = []\n",
    "    for i in month_list:\n",
    "        x = data.loc[(data['SpeciesIDDesc']==animal)&(data['bite_date'].str.split('-').str[1]==i)]\n",
    "        numberOfAnimal.append(len(x))\n",
    "    ax = sns.barplot(x=month_list,y=numberOfAnimal,palette  = \"Blues\")\n",
    "    plt.title(animal + ' bite for 12 month')"
   ]
  },
  {
   "cell_type": "code",
   "execution_count": 29,
   "id": "6f1862c6",
   "metadata": {},
   "outputs": [
    {
     "data": {
      "image/png": "[encoded data removed]",
      "text/plain": [
       "<Figure size 432x288 with 1 Axes>"
      ]
     },
     "metadata": {
      "needs_background": "light"
     },
     "output_type": "display_data"
    }
   ],
   "source": [
    "# Dogs mostly bites at 5th month\n",
    "animal_month('DOG',data)"
   ]
  },
  {
   "cell_type": "code",
   "execution_count": 30,
   "id": "8f70fc72",
   "metadata": {},
   "outputs": [
    {
     "data": {
      "image/png": "[encoded data removed]",
      "text/plain": [
       "<Figure size 432x288 with 1 Axes>"
      ]
     },
     "metadata": {
      "needs_background": "light"
     },
     "output_type": "display_data"
    }
   ],
   "source": [
    "# Cats mostly bites at 9th month\n",
    "animal_month('CAT',data)"
   ]
  },
  {
   "cell_type": "code",
   "execution_count": 31,
   "id": "6b6b02e2",
   "metadata": {},
   "outputs": [
    {
     "data": {
      "image/png": "[encoded data removed]",
      "text/plain": [
       "<Figure size 432x288 with 1 Axes>"
      ]
     },
     "metadata": {
      "needs_background": "light"
     },
     "output_type": "display_data"
    }
   ],
   "source": [
    "# Bats mostly bites at 5th month\n",
    "animal_month('BAT',data)"
   ]
  },
  {
   "cell_type": "markdown",
   "id": "343d506a",
   "metadata": {},
   "source": [
    "#### The Most Aggressive 10 Species\n",
    "\n",
    "1. PIT BULL <br>\n",
    "2. GERM SHEPHERD <br>\n",
    "3. LABRADOR RETRIV <br>\n",
    "4. BOXER <br>\n",
    "5. CHICHAUHUA <br>\n",
    "6. SHIH TZU <br>\n",
    "7. BEAGLE <br>\n",
    "8. ROTTWEILER <br>\n",
    "9. AAUST. TERR <br>\n",
    "10. DACHSHUND"
   ]
  },
  {
   "cell_type": "code",
   "execution_count": 32,
   "id": "68f523d1",
   "metadata": {},
   "outputs": [
    {
     "name": "stdout",
     "output_type": "stream",
     "text": [
      "Index(['PIT BULL', 'GERM SHEPHERD', 'LABRADOR RETRIV', 'BOXER', 'CHICHAUHUA',\n",
      "       'BEAGLE', 'ROTTWEILER', 'SHIH TZU', 'AAUST. TERR.', 'GREAT DANE'],\n",
      "      dtype='object')\n"
     ]
    },
    {
     "data": {
      "image/png": "[encoded data removed]",
      "text/plain": [
       "<Figure size 1080x576 with 1 Axes>"
      ]
     },
     "metadata": {
      "needs_background": "light"
     },
     "output_type": "display_data"
    }
   ],
   "source": [
    "count = data.BreedIDDesc.value_counts()\n",
    "plt.figure(figsize=(15,8))\n",
    "ax = sns.barplot(x=count[0:10].index,y=count[0:10])\n",
    "plt.xticks(rotation=20)\n",
    "plt.ylabel(\"Number of Bite\")\n",
    "plt.savefig('graph.png')\n",
    "\n",
    "print(count[0:10].index)"
   ]
  },
  {
   "cell_type": "markdown",
   "id": "cd2fffbf",
   "metadata": {},
   "source": [
    "#### Where the Animals Bite\n",
    "\n",
    "Where dogs, cats and bats bite people are visualized. While changing bite_place method, you can observe where other animals bite."
   ]
  },
  {
   "cell_type": "code",
   "execution_count": 33,
   "id": "5b11de32",
   "metadata": {},
   "outputs": [],
   "source": [
    "def bite_place(animal,data):\n",
    "    bitePlaces = data.WhereBittenIDDesc.unique()\n",
    "    #print(bitePlaces)\n",
    "    head = data.loc[(data['SpeciesIDDesc']==animal)&(data['WhereBittenIDDesc']=='HEAD')]\n",
    "    body = data.loc[(data['SpeciesIDDesc']==animal)&(data['WhereBittenIDDesc']=='BODY')]\n",
    "    numberOfHead = len(head)\n",
    "    numberOfBody = len(body)\n",
    "    total = numberOfHead+numberOfBody\n",
    "    fig1=plt.figure()\n",
    "    ax1=fig1.add_subplot(111,aspect='equal')\n",
    "    ax1.add_patch(\n",
    "        patches.Rectangle((0.3,0.1),0.4,0.5,alpha=numberOfBody/float(total),color='r')\n",
    "    )\n",
    "    circle = plt.Circle((0.5,0.7),0.1,color='r',alpha=numberOfHead/float(total))\n",
    "    ax1.add_artist(circle)\n",
    "    plt.text(0.45,0.7,round(numberOfHead/float(total),2))\n",
    "    plt.text(0.45,0.4,round(numberOfBody/float(total),2))\n",
    "    plt.title(str(animal)+' Bite Probability of Head and Body')\n",
    "    plt.axis('off')"
   ]
  },
  {
   "cell_type": "code",
   "execution_count": 34,
   "id": "b370d1a4",
   "metadata": {},
   "outputs": [
    {
     "data": {
      "image/png": "[encoded data removed]",
      "text/plain": [
       "<Figure size 432x288 with 1 Axes>"
      ]
     },
     "metadata": {
      "needs_background": "light"
     },
     "output_type": "display_data"
    }
   ],
   "source": [
    "#Dog bites 20% head and 80% body\n",
    "bite_place('DOG',data)"
   ]
  },
  {
   "cell_type": "code",
   "execution_count": 35,
   "id": "bde60ffa",
   "metadata": {},
   "outputs": [
    {
     "data": {
      "image/png": "[encoded data removed]",
      "text/plain": [
       "<Figure size 432x288 with 1 Axes>"
      ]
     },
     "metadata": {
      "needs_background": "light"
     },
     "output_type": "display_data"
    }
   ],
   "source": [
    "#Cat bites 3% head and 97% body\n",
    "bite_place('CAT',data)"
   ]
  },
  {
   "cell_type": "code",
   "execution_count": 36,
   "id": "0ef1a850",
   "metadata": {},
   "outputs": [
    {
     "data": {
      "image/png": "[encoded data removed]",
      "text/plain": [
       "<Figure size 432x288 with 1 Axes>"
      ]
     },
     "metadata": {
      "needs_background": "light"
     },
     "output_type": "display_data"
    }
   ],
   "source": [
    "#Bat bites 10% head and 90% body\n",
    "bite_place('BAT',data)"
   ]
  },
  {
   "cell_type": "markdown",
   "id": "b6aedbf4",
   "metadata": {},
   "source": [
    "#### Male or Female - Which is More Dangerous?"
   ]
  },
  {
   "cell_type": "code",
   "execution_count": 37,
   "id": "b79f0332",
   "metadata": {},
   "outputs": [
    {
     "name": "stdout",
     "output_type": "stream",
     "text": [
      "MALE      2505\n",
      "FEMALE    1209\n",
      "Name: GenderIDDesc, dtype: int64\n"
     ]
    },
    {
     "data": {
      "image/png": "[encoded data removed]",
      "text/plain": [
       "<Figure size 504x576 with 1 Axes>"
      ]
     },
     "metadata": {
      "needs_background": "light"
     },
     "output_type": "display_data"
    }
   ],
   "source": [
    "gender = ['MALE','FEMALE']\n",
    "count_gender = data.GenderIDDesc.value_counts()\n",
    "plt.figure(figsize= (7,8))\n",
    "x = sns.barplot(x=gender, y= count_gender[0:2])\n",
    "plt.ylabel('Number of Bite ')\n",
    "plt.xticks(rotation = 20)\n",
    "plt.title('MALE VS FEMALE')\n",
    "print(count_gender[0:2])"
   ]
  },
  {
   "cell_type": "markdown",
   "id": "6fd60bca",
   "metadata": {},
   "source": [
    "#### Probability of Being Rabid"
   ]
  },
  {
   "cell_type": "code",
   "execution_count": 38,
   "id": "1fd26f54",
   "metadata": {},
   "outputs": [],
   "source": [
    "def rabid_prob(animal,data):\n",
    "    labels = ['POSITIVE','NEGATIVE']\n",
    "    colors = ['red','green']\n",
    "    explode = [0.1,0]\n",
    "    p = data.loc[(data['SpeciesIDDesc']==animal)&(data['ResultsIDDesc']=='POSITIVE')]\n",
    "    n = data.loc[(data['SpeciesIDDesc']==animal)&(data['ResultsIDDesc']=='NEGATIVE')]\n",
    "    sizes = [len(p),len(n)]\n",
    "    print(sizes)\n",
    "    if len(p)==0:\n",
    "        labels = ['','NEGATIVE']\n",
    "    plt.pie(sizes,explode=explode,labels=labels,colors=colors,autopct ='%1.1f&&')\n",
    "    plt.axis('equal')\n",
    "    plt.title(animal + ' Rabid Probability')\n",
    "    plt.show()"
   ]
  },
  {
   "cell_type": "code",
   "execution_count": 39,
   "id": "06e8a689",
   "metadata": {},
   "outputs": [
    {
     "name": "stdout",
     "output_type": "stream",
     "text": [
      "[1, 51]\n"
     ]
    },
    {
     "data": {
      "image/png": "[encoded data removed]",
      "text/plain": [
       "<Figure size 432x288 with 1 Axes>"
      ]
     },
     "metadata": {},
     "output_type": "display_data"
    }
   ],
   "source": [
    "# Dog rabid probability is 1.9%\n",
    "rabid_prob('DOG',data)"
   ]
  },
  {
   "cell_type": "code",
   "execution_count": 40,
   "id": "b3b5c006",
   "metadata": {},
   "outputs": [
    {
     "name": "stdout",
     "output_type": "stream",
     "text": [
      "[0, 34]\n"
     ]
    },
    {
     "data": {
      "image/png": "[encoded data removed]",
      "text/plain": [
       "<Figure size 432x288 with 1 Axes>"
      ]
     },
     "metadata": {},
     "output_type": "display_data"
    }
   ],
   "source": [
    "# Bat rabid probability is 0%\n",
    "rabid_prob('BAT',data)"
   ]
  },
  {
   "cell_type": "code",
   "execution_count": 41,
   "id": "91d25d6c",
   "metadata": {},
   "outputs": [
    {
     "name": "stdout",
     "output_type": "stream",
     "text": [
      "[0, 34]\n"
     ]
    },
    {
     "data": {
      "image/png": "[encoded data removed]",
      "text/plain": [
       "<Figure size 432x288 with 1 Axes>"
      ]
     },
     "metadata": {},
     "output_type": "display_data"
    }
   ],
   "source": [
    "# Bat rabid probability is 0%\n",
    "rabid_prob('CAT',data)"
   ]
  },
  {
   "cell_type": "markdown",
   "id": "a65ccd27",
   "metadata": {},
   "source": [
    "There is a total of only one rabid record.\n",
    "\n",
    "#### Common Feature of Rabid Animal\n",
    "\n",
    "There is only one rabid animal which is a dog. <br>\n",
    "Information of dog is greatpyreneese, female and white. <br>"
   ]
  },
  {
   "cell_type": "code",
   "execution_count": 42,
   "id": "f27a65ba",
   "metadata": {},
   "outputs": [
    {
     "name": "stdout",
     "output_type": "stream",
     "text": [
      "                bite_date SpeciesIDDesc      BreedIDDesc GenderIDDesc  color  \\\n",
      "1210  2017-04-29 00:00:00           DOG  GREAT PYRENEESE       FEMALE  WHITE   \n",
      "\n",
      "     ResultsIDDesc  \n",
      "1210      POSITIVE  \n"
     ]
    }
   ],
   "source": [
    "a = data.loc[(data['ResultsIDDesc']=='POSITIVE')]\n",
    "a = a.loc[:,['bite_date','SpeciesIDDesc','BreedIDDesc','GenderIDDesc','color','ResultsIDDesc']]\n",
    "print(a)"
   ]
  },
  {
   "cell_type": "markdown",
   "id": "9cba520b",
   "metadata": {},
   "source": [
    "#### CONCULUSION\n"
   ]
  }
 ],
 "metadata": {
  "kernelspec": {
   "display_name": "Python 3",
   "language": "python",
   "name": "python3"
  },
  "language_info": {
   "codemirror_mode": {
    "name": "ipython",
    "version": 3
   },
   "file_extension": ".py",
   "mimetype": "text/x-python",
   "name": "python",
   "nbconvert_exporter": "python",
   "pygments_lexer": "ipython3",
   "version": "3.8.8"
  }
 },
 "nbformat": 4,
 "nbformat_minor": 5
}
