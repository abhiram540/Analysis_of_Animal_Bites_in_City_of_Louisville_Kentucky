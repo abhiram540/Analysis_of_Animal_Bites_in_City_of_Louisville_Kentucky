{
 "cells": [
  {
   "cell_type": "markdown",
   "id": "678b2ca1",
   "metadata": {},
   "source": [
    "# Analysis of Animal Bites in Louisville Metropolitan Area Kentucky for Data Storytelling\n",
    "\n",
    "In the United States, animal bites are often reported to law enforcement (such as animal control). The main concern with an animal bite is that the animal may be rabid. This dataset includes information on thousands of animal bites which occurred near Louisville, Kentucky from 2012 to 2021 and includes information on whether the animal was quarantined after the bite occurred and whether that animal was rabid.\n",
    "\n",
    "Contents:\n",
    "\n",
    "1. Features of Animal Bite Data <br>\n",
    "2. Animal Species <br>\n",
    "3. Animal Name VS Number of Bite <br>\n",
    "4. The Most Aggressive 10 Species <br>\n",
    "5. When Animals Bite <br>\n",
    "6. Male or Female is More Dangerous <br>\n",
    "7. Probability of Being Rabid <br>\n",
    "8. Common Feature of 4 Rabid Animal <br>"
   ]
  },
  {
   "cell_type": "code",
   "execution_count": 2,
   "id": "9176ee4b",
   "metadata": {},
   "outputs": [],
   "source": [
    "#Import Libraries\n",
    "\n",
    "import numpy as np #linear algebra\n",
    "import pandas as pd # data processing, CSV file I/O (e.g. pd.read_csv)\n",
    "import seaborn as sns # visualization library\n",
    "import matplotlib.pyplot as plt\n",
    "import matplotlib.patches as patches"
   ]
  },
  {
   "cell_type": "code",
   "execution_count": 5,
   "id": "8ebac0f2",
   "metadata": {},
   "outputs": [],
   "source": [
    "data = pd.read_csv(r'C:\\Users\\abhir\\OneDrive\\Documents\\GitHub\\Analysis_of_Animal_Bites_in_City_of_Louisville_Kentucky\\Animal_Bites.csv')"
   ]
  },
  {
   "cell_type": "code",
   "execution_count": 6,
   "id": "dd0cd9b3",
   "metadata": {},
   "outputs": [
    {
     "data": {
      "text/plain": [
       "Index(['id', 'bite_date', 'SpeciesIDDesc', 'BreedIDDesc', 'breed',\n",
       "       'GenderIDDesc', 'color', 'vaccination_yrs', 'vaccination_date',\n",
       "       'victim_zip', 'AdvIssuedYNDesc', 'WhereBittenIDDesc', 'quarantine_date',\n",
       "       'DispositionIDDesc', 'head_sent_date', 'release_date', 'ResultsIDDesc',\n",
       "       'FollowupYNDesc'],\n",
       "      dtype='object')"
      ]
     },
     "execution_count": 6,
     "metadata": {},
     "output_type": "execute_result"
    }
   ],
   "source": [
    "# There are 15 features\n",
    "data.columns"
   ]
  },
  {
   "cell_type": "code",
   "execution_count": null,
   "id": "c40b7cf0",
   "metadata": {},
   "outputs": [],
   "source": []
  }
 ],
 "metadata": {
  "kernelspec": {
   "display_name": "Python 3",
   "language": "python",
   "name": "python3"
  },
  "language_info": {
   "codemirror_mode": {
    "name": "ipython",
    "version": 3
   },
   "file_extension": ".py",
   "mimetype": "text/x-python",
   "name": "python",
   "nbconvert_exporter": "python",
   "pygments_lexer": "ipython3",
   "version": "3.8.8"
  }
 },
 "nbformat": 4,
 "nbformat_minor": 5
}
